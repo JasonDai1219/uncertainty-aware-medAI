{
 "cells": [
  {
   "cell_type": "code",
   "execution_count": 6,
   "id": "initial_id",
   "metadata": {
    "collapsed": true,
    "jupyter": {
     "is_executing": true
    }
   },
   "outputs": [
    {
     "data": {
      "text/plain": [
       "{'ACC': 0.93,\n",
       " 'AUROC': 0.9842910293509715,\n",
       " 'TP': 53,\n",
       " 'FP': 1,\n",
       " 'TN': 40,\n",
       " 'FN': 6,\n",
       " 'RECALL': 0.8983050847457474,\n",
       " 'PRECISION': 0.9814814814814633,\n",
       " 'F1': 0.9380530973451244}"
      ]
     },
     "execution_count": 6,
     "metadata": {},
     "output_type": "execute_result"
    }
   ],
   "source": [
    "import os\n",
    "from pathlib import Path\n",
    "\n",
    "PROJECT_ROOT = Path(os.getcwd()).resolve().parent  # notebooks 的上一级就是项目根\n",
    "DATA_DIR = PROJECT_ROOT / \"data\" / \"processed\"\n",
    "\n",
    "train = pd.read_pickle(DATA_DIR / \"train.pkl\")\n",
    "calib = pd.read_pickle(DATA_DIR / \"calib.pkl\")\n",
    "test  = pd.read_pickle(DATA_DIR / \"test.pkl\")\n",
    "\n",
    "pipe = train_logreg(train)\n",
    "\n",
    "m_test, proba_test, yhat_test = evaluate(pipe, test, threshold=0.5)\n",
    "m_test"
   ]
  },
  {
   "cell_type": "code",
   "execution_count": null,
   "id": "605c8c8b6b305d23",
   "metadata": {},
   "outputs": [],
   "source": []
  }
 ],
 "metadata": {
  "kernelspec": {
   "display_name": "Python 3 (ipykernel)",
   "language": "python",
   "name": "python3"
  },
  "language_info": {
   "codemirror_mode": {
    "name": "ipython",
    "version": 3
   },
   "file_extension": ".py",
   "mimetype": "text/x-python",
   "name": "python",
   "nbconvert_exporter": "python",
   "pygments_lexer": "ipython3",
   "version": "3.10.9"
  }
 },
 "nbformat": 4,
 "nbformat_minor": 5
}
