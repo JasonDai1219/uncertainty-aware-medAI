{
 "cells": [
  {
   "cell_type": "code",
   "execution_count": 2,
   "id": "initial_id",
   "metadata": {
    "collapsed": true,
    "jupyter": {
     "is_executing": true
    }
   },
   "outputs": [],
   "source": [
    "import os, pandas as pd\n",
    "from src.models.baseline import train_logreg, evaluate\n",
    "\n",
    "train = pd.read_pickle(os.path.join(\"data\",\"processed\",\"train.pkl\"))\n",
    "calib = pd.read_pickle(os.path.join(\"data\",\"processed\",\"calib.pkl\"))\n",
    "test  = pd.read_pickle(os.path.join(\"data\",\"processed\",\"test.pkl\"))\n",
    "\n",
    "pipe = train_logreg(train)\n",
    "\n",
    "m_test, proba_test, yhat_test = evaluate(pipe, test, threshold=0.5)\n",
    "m_test"
   ]
  },
  {
   "cell_type": "code",
   "execution_count": null,
   "id": "605c8c8b6b305d23",
   "metadata": {},
   "outputs": [],
   "source": []
  }
 ],
 "metadata": {
  "kernelspec": {
   "display_name": "Python 3 (ipykernel)",
   "language": "python",
   "name": "python3"
  },
  "language_info": {
   "codemirror_mode": {
    "name": "ipython",
    "version": 3
   },
   "file_extension": ".py",
   "mimetype": "text/x-python",
   "name": "python",
   "nbconvert_exporter": "python",
   "pygments_lexer": "ipython3",
   "version": "3.10.9"
  }
 },
 "nbformat": 4,
 "nbformat_minor": 5
}
